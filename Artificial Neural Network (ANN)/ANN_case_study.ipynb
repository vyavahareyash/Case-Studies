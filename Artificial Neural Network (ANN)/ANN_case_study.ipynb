{
 "cells": [
  {
   "cell_type": "markdown",
   "id": "a7b639ce",
   "metadata": {},
   "source": [
    "# Artificial Neural Network"
   ]
  },
  {
   "cell_type": "markdown",
   "id": "4b7c7a54",
   "metadata": {},
   "source": [
    "## Importing the libraries"
   ]
  },
  {
   "cell_type": "code",
   "execution_count": 1,
   "id": "8e36d3f9",
   "metadata": {},
   "outputs": [],
   "source": [
    "import numpy as np\n",
    "import pandas as pd\n",
    "import tensorflow as tf"
   ]
  },
  {
   "cell_type": "code",
   "execution_count": 2,
   "id": "d91aa02c",
   "metadata": {},
   "outputs": [
    {
     "data": {
      "text/plain": [
       "'2.9.1'"
      ]
     },
     "execution_count": 2,
     "metadata": {},
     "output_type": "execute_result"
    }
   ],
   "source": [
    "tf.__version__"
   ]
  },
  {
   "cell_type": "markdown",
   "id": "2dfe9416",
   "metadata": {},
   "source": [
    "## Part 1 - Data Preprocessing"
   ]
  },
  {
   "cell_type": "markdown",
   "id": "50ca8dff",
   "metadata": {},
   "source": [
    "### Importing the dataset"
   ]
  },
  {
   "cell_type": "code",
   "execution_count": 3,
   "id": "76d9a234",
   "metadata": {},
   "outputs": [],
   "source": [
    "dataset = pd.read_excel('Folds5x2_pp.xlsx')"
   ]
  },
  {
   "cell_type": "markdown",
   "id": "422c2f86",
   "metadata": {},
   "source": [
    "Combined Cycle Power Plant Data Set\n",
    "\n",
    "Temperature (T), Ambient Pressure (AP), Relative Humidity (RH), Exhaust Vacuum (V), Net hourly electrical energy output (EP)\n",
    "\n",
    "Aim is to predict Energy output of the Power plant"
   ]
  },
  {
   "cell_type": "code",
   "execution_count": 4,
   "id": "d75bc30e",
   "metadata": {},
   "outputs": [
    {
     "data": {
      "text/html": [
       "<div>\n",
       "<style scoped>\n",
       "    .dataframe tbody tr th:only-of-type {\n",
       "        vertical-align: middle;\n",
       "    }\n",
       "\n",
       "    .dataframe tbody tr th {\n",
       "        vertical-align: top;\n",
       "    }\n",
       "\n",
       "    .dataframe thead th {\n",
       "        text-align: right;\n",
       "    }\n",
       "</style>\n",
       "<table border=\"1\" class=\"dataframe\">\n",
       "  <thead>\n",
       "    <tr style=\"text-align: right;\">\n",
       "      <th></th>\n",
       "      <th>AT</th>\n",
       "      <th>V</th>\n",
       "      <th>AP</th>\n",
       "      <th>RH</th>\n",
       "      <th>PE</th>\n",
       "    </tr>\n",
       "  </thead>\n",
       "  <tbody>\n",
       "    <tr>\n",
       "      <th>0</th>\n",
       "      <td>14.96</td>\n",
       "      <td>41.76</td>\n",
       "      <td>1024.07</td>\n",
       "      <td>73.17</td>\n",
       "      <td>463.26</td>\n",
       "    </tr>\n",
       "    <tr>\n",
       "      <th>1</th>\n",
       "      <td>25.18</td>\n",
       "      <td>62.96</td>\n",
       "      <td>1020.04</td>\n",
       "      <td>59.08</td>\n",
       "      <td>444.37</td>\n",
       "    </tr>\n",
       "    <tr>\n",
       "      <th>2</th>\n",
       "      <td>5.11</td>\n",
       "      <td>39.40</td>\n",
       "      <td>1012.16</td>\n",
       "      <td>92.14</td>\n",
       "      <td>488.56</td>\n",
       "    </tr>\n",
       "    <tr>\n",
       "      <th>3</th>\n",
       "      <td>20.86</td>\n",
       "      <td>57.32</td>\n",
       "      <td>1010.24</td>\n",
       "      <td>76.64</td>\n",
       "      <td>446.48</td>\n",
       "    </tr>\n",
       "    <tr>\n",
       "      <th>4</th>\n",
       "      <td>10.82</td>\n",
       "      <td>37.50</td>\n",
       "      <td>1009.23</td>\n",
       "      <td>96.62</td>\n",
       "      <td>473.90</td>\n",
       "    </tr>\n",
       "    <tr>\n",
       "      <th>...</th>\n",
       "      <td>...</td>\n",
       "      <td>...</td>\n",
       "      <td>...</td>\n",
       "      <td>...</td>\n",
       "      <td>...</td>\n",
       "    </tr>\n",
       "    <tr>\n",
       "      <th>9563</th>\n",
       "      <td>16.65</td>\n",
       "      <td>49.69</td>\n",
       "      <td>1014.01</td>\n",
       "      <td>91.00</td>\n",
       "      <td>460.03</td>\n",
       "    </tr>\n",
       "    <tr>\n",
       "      <th>9564</th>\n",
       "      <td>13.19</td>\n",
       "      <td>39.18</td>\n",
       "      <td>1023.67</td>\n",
       "      <td>66.78</td>\n",
       "      <td>469.62</td>\n",
       "    </tr>\n",
       "    <tr>\n",
       "      <th>9565</th>\n",
       "      <td>31.32</td>\n",
       "      <td>74.33</td>\n",
       "      <td>1012.92</td>\n",
       "      <td>36.48</td>\n",
       "      <td>429.57</td>\n",
       "    </tr>\n",
       "    <tr>\n",
       "      <th>9566</th>\n",
       "      <td>24.48</td>\n",
       "      <td>69.45</td>\n",
       "      <td>1013.86</td>\n",
       "      <td>62.39</td>\n",
       "      <td>435.74</td>\n",
       "    </tr>\n",
       "    <tr>\n",
       "      <th>9567</th>\n",
       "      <td>21.60</td>\n",
       "      <td>62.52</td>\n",
       "      <td>1017.23</td>\n",
       "      <td>67.87</td>\n",
       "      <td>453.28</td>\n",
       "    </tr>\n",
       "  </tbody>\n",
       "</table>\n",
       "<p>9568 rows × 5 columns</p>\n",
       "</div>"
      ],
      "text/plain": [
       "         AT      V       AP     RH      PE\n",
       "0     14.96  41.76  1024.07  73.17  463.26\n",
       "1     25.18  62.96  1020.04  59.08  444.37\n",
       "2      5.11  39.40  1012.16  92.14  488.56\n",
       "3     20.86  57.32  1010.24  76.64  446.48\n",
       "4     10.82  37.50  1009.23  96.62  473.90\n",
       "...     ...    ...      ...    ...     ...\n",
       "9563  16.65  49.69  1014.01  91.00  460.03\n",
       "9564  13.19  39.18  1023.67  66.78  469.62\n",
       "9565  31.32  74.33  1012.92  36.48  429.57\n",
       "9566  24.48  69.45  1013.86  62.39  435.74\n",
       "9567  21.60  62.52  1017.23  67.87  453.28\n",
       "\n",
       "[9568 rows x 5 columns]"
      ]
     },
     "execution_count": 4,
     "metadata": {},
     "output_type": "execute_result"
    }
   ],
   "source": [
    "dataset"
   ]
  },
  {
   "cell_type": "code",
   "execution_count": 5,
   "id": "f5b49c29",
   "metadata": {},
   "outputs": [
    {
     "name": "stdout",
     "output_type": "stream",
     "text": [
      "<class 'pandas.core.frame.DataFrame'>\n",
      "RangeIndex: 9568 entries, 0 to 9567\n",
      "Data columns (total 5 columns):\n",
      " #   Column  Non-Null Count  Dtype  \n",
      "---  ------  --------------  -----  \n",
      " 0   AT      9568 non-null   float64\n",
      " 1   V       9568 non-null   float64\n",
      " 2   AP      9568 non-null   float64\n",
      " 3   RH      9568 non-null   float64\n",
      " 4   PE      9568 non-null   float64\n",
      "dtypes: float64(5)\n",
      "memory usage: 373.9 KB\n"
     ]
    }
   ],
   "source": [
    "dataset.info()"
   ]
  },
  {
   "cell_type": "markdown",
   "id": "f5fa5965",
   "metadata": {},
   "source": [
    "Check for missing values"
   ]
  },
  {
   "cell_type": "code",
   "execution_count": 6,
   "id": "af106fbe",
   "metadata": {},
   "outputs": [
    {
     "data": {
      "text/plain": [
       "AT    False\n",
       "V     False\n",
       "AP    False\n",
       "RH    False\n",
       "PE    False\n",
       "dtype: bool"
      ]
     },
     "execution_count": 6,
     "metadata": {},
     "output_type": "execute_result"
    }
   ],
   "source": [
    "dataset.isnull().any()"
   ]
  },
  {
   "cell_type": "code",
   "execution_count": 7,
   "id": "fc82be36",
   "metadata": {},
   "outputs": [],
   "source": [
    "x = dataset.iloc[:,:-1].values\n",
    "y = dataset.iloc[:,-1].values"
   ]
  },
  {
   "cell_type": "code",
   "execution_count": 8,
   "id": "75407573",
   "metadata": {},
   "outputs": [],
   "source": [
    "y = y.reshape(len(y),1)"
   ]
  },
  {
   "cell_type": "markdown",
   "id": "037ffb30",
   "metadata": {},
   "source": [
    "### Spliting the dataset into Training set and Test set"
   ]
  },
  {
   "cell_type": "code",
   "execution_count": 9,
   "id": "097ecee5",
   "metadata": {},
   "outputs": [],
   "source": [
    "from sklearn.model_selection import train_test_split\n",
    "x_train, x_test, y_train, y_test = train_test_split(x, y, test_size = 0.2, random_state = 0)"
   ]
  },
  {
   "cell_type": "markdown",
   "id": "8c5af1cf",
   "metadata": {},
   "source": [
    "### Feature Scaling"
   ]
  },
  {
   "cell_type": "code",
   "execution_count": 10,
   "id": "01a13b5f",
   "metadata": {},
   "outputs": [],
   "source": [
    "from sklearn.preprocessing import StandardScaler\n",
    "sc_x = StandardScaler()\n",
    "sc_y = StandardScaler()\n",
    "x_train = sc_x.fit_transform(x_train) \n",
    "x_test = sc_x.transform(x_test)\n",
    "y_train = sc_y.fit_transform(y_train)\n",
    "y_test = sc_y.transform(y_test)"
   ]
  },
  {
   "cell_type": "markdown",
   "id": "66f3ebb9",
   "metadata": {},
   "source": [
    "## Part 2 - Building the ANN"
   ]
  },
  {
   "cell_type": "markdown",
   "id": "a7850fd8",
   "metadata": {},
   "source": [
    "### Initializing the ANN"
   ]
  },
  {
   "cell_type": "code",
   "execution_count": 11,
   "id": "db821146",
   "metadata": {},
   "outputs": [],
   "source": [
    "ann = tf.keras.models.Sequential()"
   ]
  },
  {
   "cell_type": "markdown",
   "id": "b5fad642",
   "metadata": {},
   "source": [
    "### Adding the input layer and the first hidden layer"
   ]
  },
  {
   "cell_type": "code",
   "execution_count": 12,
   "id": "27ab8ebc",
   "metadata": {},
   "outputs": [],
   "source": [
    "ann.add(tf.keras.layers.Dense(units = 6, activation = 'relu'))"
   ]
  },
  {
   "cell_type": "markdown",
   "id": "99a71f02",
   "metadata": {},
   "source": [
    "### Adding the second hidden layer"
   ]
  },
  {
   "cell_type": "code",
   "execution_count": 13,
   "id": "b36f8f57",
   "metadata": {},
   "outputs": [],
   "source": [
    "ann.add(tf.keras.layers.Dense(units = 6, activation = 'relu'))"
   ]
  },
  {
   "cell_type": "markdown",
   "id": "82a9fd3c",
   "metadata": {},
   "source": [
    "### Adding the output layer"
   ]
  },
  {
   "cell_type": "code",
   "execution_count": 14,
   "id": "3cd61623",
   "metadata": {},
   "outputs": [],
   "source": [
    "ann.add(tf.keras.layers.Dense(units = 1))"
   ]
  },
  {
   "cell_type": "markdown",
   "id": "23db7abc",
   "metadata": {},
   "source": [
    "## Part 3 - Training the ANN"
   ]
  },
  {
   "cell_type": "markdown",
   "id": "bc85ebd6",
   "metadata": {},
   "source": [
    "### Compiling the ANN"
   ]
  },
  {
   "cell_type": "code",
   "execution_count": 15,
   "id": "9b6ba91b",
   "metadata": {},
   "outputs": [],
   "source": [
    "ann.compile(optimizer = 'adam', loss = 'mean_squared_error')"
   ]
  },
  {
   "cell_type": "markdown",
   "id": "9e14bdf9",
   "metadata": {},
   "source": [
    "### Training the ANN model on th Training set"
   ]
  },
  {
   "cell_type": "code",
   "execution_count": 16,
   "id": "a489a1c9",
   "metadata": {},
   "outputs": [
    {
     "name": "stdout",
     "output_type": "stream",
     "text": [
      "Epoch 1/100\n",
      "240/240 [==============================] - 1s 1ms/step - loss: 0.5752\n",
      "Epoch 2/100\n",
      "240/240 [==============================] - 0s 1ms/step - loss: 0.1244\n",
      "Epoch 3/100\n",
      "240/240 [==============================] - 0s 1ms/step - loss: 0.0693\n",
      "Epoch 4/100\n",
      "240/240 [==============================] - 0s 1ms/step - loss: 0.0665\n",
      "Epoch 5/100\n",
      "240/240 [==============================] - 0s 1ms/step - loss: 0.0653\n",
      "Epoch 6/100\n",
      "240/240 [==============================] - 0s 1ms/step - loss: 0.0643\n",
      "Epoch 7/100\n",
      "240/240 [==============================] - 0s 1ms/step - loss: 0.0641\n",
      "Epoch 8/100\n",
      "240/240 [==============================] - 0s 1ms/step - loss: 0.0637\n",
      "Epoch 9/100\n",
      "240/240 [==============================] - 0s 1ms/step - loss: 0.0637\n",
      "Epoch 10/100\n",
      "240/240 [==============================] - 0s 1ms/step - loss: 0.0633\n",
      "Epoch 11/100\n",
      "240/240 [==============================] - 0s 1ms/step - loss: 0.0634\n",
      "Epoch 12/100\n",
      "240/240 [==============================] - 0s 1ms/step - loss: 0.0630\n",
      "Epoch 13/100\n",
      "240/240 [==============================] - 0s 1ms/step - loss: 0.0630\n",
      "Epoch 14/100\n",
      "240/240 [==============================] - 0s 1ms/step - loss: 0.0628\n",
      "Epoch 15/100\n",
      "240/240 [==============================] - 0s 1ms/step - loss: 0.0625\n",
      "Epoch 16/100\n",
      "240/240 [==============================] - 0s 1ms/step - loss: 0.0623\n",
      "Epoch 17/100\n",
      "240/240 [==============================] - 0s 1ms/step - loss: 0.0624\n",
      "Epoch 18/100\n",
      "240/240 [==============================] - 0s 1ms/step - loss: 0.0623\n",
      "Epoch 19/100\n",
      "240/240 [==============================] - 0s 1ms/step - loss: 0.0622\n",
      "Epoch 20/100\n",
      "240/240 [==============================] - 0s 1ms/step - loss: 0.0620\n",
      "Epoch 21/100\n",
      "240/240 [==============================] - 0s 1ms/step - loss: 0.0621\n",
      "Epoch 22/100\n",
      "240/240 [==============================] - 0s 1ms/step - loss: 0.0620\n",
      "Epoch 23/100\n",
      "240/240 [==============================] - 0s 1ms/step - loss: 0.0621\n",
      "Epoch 24/100\n",
      "240/240 [==============================] - 0s 1ms/step - loss: 0.0618\n",
      "Epoch 25/100\n",
      "240/240 [==============================] - 0s 1ms/step - loss: 0.0620\n",
      "Epoch 26/100\n",
      "240/240 [==============================] - 0s 1ms/step - loss: 0.0617\n",
      "Epoch 27/100\n",
      "240/240 [==============================] - 0s 1ms/step - loss: 0.0617\n",
      "Epoch 28/100\n",
      "240/240 [==============================] - 0s 1ms/step - loss: 0.0620\n",
      "Epoch 29/100\n",
      "240/240 [==============================] - 0s 1ms/step - loss: 0.0616\n",
      "Epoch 30/100\n",
      "240/240 [==============================] - 0s 1ms/step - loss: 0.0615\n",
      "Epoch 31/100\n",
      "240/240 [==============================] - 0s 1ms/step - loss: 0.0618\n",
      "Epoch 32/100\n",
      "240/240 [==============================] - 0s 1ms/step - loss: 0.0615\n",
      "Epoch 33/100\n",
      "240/240 [==============================] - 0s 1ms/step - loss: 0.0613\n",
      "Epoch 34/100\n",
      "240/240 [==============================] - 0s 1ms/step - loss: 0.0616\n",
      "Epoch 35/100\n",
      "240/240 [==============================] - 0s 1ms/step - loss: 0.0615\n",
      "Epoch 36/100\n",
      "240/240 [==============================] - 0s 1ms/step - loss: 0.0613\n",
      "Epoch 37/100\n",
      "240/240 [==============================] - 0s 1ms/step - loss: 0.0616\n",
      "Epoch 38/100\n",
      "240/240 [==============================] - 0s 1ms/step - loss: 0.0612\n",
      "Epoch 39/100\n",
      "240/240 [==============================] - 0s 1ms/step - loss: 0.0614\n",
      "Epoch 40/100\n",
      "240/240 [==============================] - 0s 1ms/step - loss: 0.0613\n",
      "Epoch 41/100\n",
      "240/240 [==============================] - 0s 1ms/step - loss: 0.0614\n",
      "Epoch 42/100\n",
      "240/240 [==============================] - 0s 1ms/step - loss: 0.0615\n",
      "Epoch 43/100\n",
      "240/240 [==============================] - 0s 1ms/step - loss: 0.0614\n",
      "Epoch 44/100\n",
      "240/240 [==============================] - 0s 1ms/step - loss: 0.0615\n",
      "Epoch 45/100\n",
      "240/240 [==============================] - 0s 1ms/step - loss: 0.0612\n",
      "Epoch 46/100\n",
      "240/240 [==============================] - 0s 1ms/step - loss: 0.0612\n",
      "Epoch 47/100\n",
      "240/240 [==============================] - 0s 1ms/step - loss: 0.0612\n",
      "Epoch 48/100\n",
      "240/240 [==============================] - 0s 1ms/step - loss: 0.0613\n",
      "Epoch 49/100\n",
      "240/240 [==============================] - 0s 1ms/step - loss: 0.0614\n",
      "Epoch 50/100\n",
      "240/240 [==============================] - 0s 1ms/step - loss: 0.0613\n",
      "Epoch 51/100\n",
      "240/240 [==============================] - 0s 1ms/step - loss: 0.0613\n",
      "Epoch 52/100\n",
      "240/240 [==============================] - 0s 1ms/step - loss: 0.0612\n",
      "Epoch 53/100\n",
      "240/240 [==============================] - 0s 1ms/step - loss: 0.0614\n",
      "Epoch 54/100\n",
      "240/240 [==============================] - 0s 1ms/step - loss: 0.0613\n",
      "Epoch 55/100\n",
      "240/240 [==============================] - 0s 1ms/step - loss: 0.0612\n",
      "Epoch 56/100\n",
      "240/240 [==============================] - 0s 1ms/step - loss: 0.0612\n",
      "Epoch 57/100\n",
      "240/240 [==============================] - 0s 1ms/step - loss: 0.0612\n",
      "Epoch 58/100\n",
      "240/240 [==============================] - 0s 1ms/step - loss: 0.0612\n",
      "Epoch 59/100\n",
      "240/240 [==============================] - 0s 1ms/step - loss: 0.0613\n",
      "Epoch 60/100\n",
      "240/240 [==============================] - 0s 1ms/step - loss: 0.0611\n",
      "Epoch 61/100\n",
      "240/240 [==============================] - 0s 1ms/step - loss: 0.0610\n",
      "Epoch 62/100\n",
      "240/240 [==============================] - 0s 1ms/step - loss: 0.0611\n",
      "Epoch 63/100\n",
      "240/240 [==============================] - 0s 1ms/step - loss: 0.0610\n",
      "Epoch 64/100\n",
      "240/240 [==============================] - 0s 1ms/step - loss: 0.0608\n",
      "Epoch 65/100\n",
      "240/240 [==============================] - 0s 1ms/step - loss: 0.0609\n",
      "Epoch 66/100\n",
      "240/240 [==============================] - 0s 1ms/step - loss: 0.0611\n",
      "Epoch 67/100\n",
      "240/240 [==============================] - 0s 1ms/step - loss: 0.0608\n",
      "Epoch 68/100\n",
      "240/240 [==============================] - 0s 1ms/step - loss: 0.0609\n",
      "Epoch 69/100\n",
      "240/240 [==============================] - 0s 1ms/step - loss: 0.0608\n",
      "Epoch 70/100\n",
      "240/240 [==============================] - 0s 1ms/step - loss: 0.0609\n",
      "Epoch 71/100\n",
      "240/240 [==============================] - 0s 1ms/step - loss: 0.0609\n",
      "Epoch 72/100\n",
      "240/240 [==============================] - 0s 1ms/step - loss: 0.0611\n",
      "Epoch 73/100\n",
      "240/240 [==============================] - 0s 1ms/step - loss: 0.0607\n",
      "Epoch 74/100\n",
      "240/240 [==============================] - 0s 1ms/step - loss: 0.0608\n",
      "Epoch 75/100\n",
      "240/240 [==============================] - 0s 1ms/step - loss: 0.0608\n",
      "Epoch 76/100\n",
      "240/240 [==============================] - 0s 1ms/step - loss: 0.0608\n",
      "Epoch 77/100\n",
      "240/240 [==============================] - 0s 1ms/step - loss: 0.0607\n",
      "Epoch 78/100\n",
      "240/240 [==============================] - 0s 1ms/step - loss: 0.0607\n",
      "Epoch 79/100\n",
      "240/240 [==============================] - 0s 1ms/step - loss: 0.0609\n",
      "Epoch 80/100\n",
      "240/240 [==============================] - 0s 1ms/step - loss: 0.0608\n",
      "Epoch 81/100\n",
      "240/240 [==============================] - 0s 1ms/step - loss: 0.0608\n",
      "Epoch 82/100\n",
      "240/240 [==============================] - 0s 1ms/step - loss: 0.0607\n",
      "Epoch 83/100\n",
      "240/240 [==============================] - 0s 1ms/step - loss: 0.0608\n",
      "Epoch 84/100\n",
      "240/240 [==============================] - 0s 1ms/step - loss: 0.0607\n",
      "Epoch 85/100\n",
      "240/240 [==============================] - 0s 1ms/step - loss: 0.0608\n",
      "Epoch 86/100\n",
      "240/240 [==============================] - 0s 1ms/step - loss: 0.0607\n",
      "Epoch 87/100\n",
      "240/240 [==============================] - 0s 1ms/step - loss: 0.0607\n",
      "Epoch 88/100\n",
      "240/240 [==============================] - 0s 1ms/step - loss: 0.0607\n",
      "Epoch 89/100\n",
      "240/240 [==============================] - 0s 1ms/step - loss: 0.0608\n",
      "Epoch 90/100\n",
      "240/240 [==============================] - 0s 1ms/step - loss: 0.0607\n",
      "Epoch 91/100\n",
      "240/240 [==============================] - 0s 1ms/step - loss: 0.0607\n",
      "Epoch 92/100\n",
      "240/240 [==============================] - 0s 1ms/step - loss: 0.0611\n",
      "Epoch 93/100\n",
      "240/240 [==============================] - 0s 1ms/step - loss: 0.0609\n",
      "Epoch 94/100\n",
      "240/240 [==============================] - 0s 1ms/step - loss: 0.0608\n",
      "Epoch 95/100\n",
      "240/240 [==============================] - 0s 1ms/step - loss: 0.0609\n",
      "Epoch 96/100\n",
      "240/240 [==============================] - 0s 1ms/step - loss: 0.0607\n",
      "Epoch 97/100\n",
      "240/240 [==============================] - 0s 1ms/step - loss: 0.0606\n",
      "Epoch 98/100\n",
      "240/240 [==============================] - 0s 1ms/step - loss: 0.0608\n",
      "Epoch 99/100\n",
      "240/240 [==============================] - 0s 1ms/step - loss: 0.0606\n",
      "Epoch 100/100\n",
      "240/240 [==============================] - 0s 1ms/step - loss: 0.0607\n"
     ]
    },
    {
     "data": {
      "text/plain": [
       "<keras.callbacks.History at 0x21a74593970>"
      ]
     },
     "execution_count": 16,
     "metadata": {},
     "output_type": "execute_result"
    }
   ],
   "source": [
    "ann.fit(x_train, y_train, batch_size = 32, epochs = 100)"
   ]
  },
  {
   "cell_type": "markdown",
   "id": "439f8618",
   "metadata": {},
   "source": [
    "### Predict the result of the Test set"
   ]
  },
  {
   "cell_type": "code",
   "execution_count": 17,
   "id": "8e9085e6",
   "metadata": {},
   "outputs": [
    {
     "name": "stdout",
     "output_type": "stream",
     "text": [
      "60/60 [==============================] - 0s 1ms/step\n",
      "[[433.06 431.23]\n",
      " [457.72 460.01]\n",
      " [463.37 461.14]\n",
      " ...\n",
      " [467.9  473.26]\n",
      " [440.07 438.  ]\n",
      " [461.08 463.28]]\n"
     ]
    }
   ],
   "source": [
    "y_pred = ann.predict(x_test)\n",
    "np.set_printoptions(precision = 2)\n",
    "print(np.concatenate((sc_y.inverse_transform(y_pred.reshape(len(y_pred),1)),sc_y.inverse_transform(y_test)),1))"
   ]
  },
  {
   "cell_type": "code",
   "execution_count": 18,
   "id": "3e20f7b3",
   "metadata": {},
   "outputs": [
    {
     "name": "stdout",
     "output_type": "stream",
     "text": [
      "R2 Score = 0.9438761389187159\n"
     ]
    }
   ],
   "source": [
    "from sklearn.metrics import r2_score\n",
    "print(f'R2 Score = {r2_score(sc_y.inverse_transform(y_test),sc_y.inverse_transform(y_pred))}')"
   ]
  }
 ],
 "metadata": {
  "kernelspec": {
   "display_name": "Python 3 (ipykernel)",
   "language": "python",
   "name": "python3"
  },
  "language_info": {
   "codemirror_mode": {
    "name": "ipython",
    "version": 3
   },
   "file_extension": ".py",
   "mimetype": "text/x-python",
   "name": "python",
   "nbconvert_exporter": "python",
   "pygments_lexer": "ipython3",
   "version": "3.9.7"
  }
 },
 "nbformat": 4,
 "nbformat_minor": 5
}
